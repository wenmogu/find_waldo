{
 "cells": [
  {
   "cell_type": "code",
   "execution_count": 2,
   "metadata": {},
   "outputs": [],
   "source": [
    "import cv2\n",
    "import numpy as np"
   ]
  },
  {
   "cell_type": "code",
   "execution_count": 3,
   "metadata": {},
   "outputs": [
    {
     "name": "stdout",
     "output_type": "stream",
     "text": [
      "['D:\\\\1920Sem1\\\\CS4243\\\\project\\\\CS4243-Project\\\\datasets\\\\JPEGImages\\\\000.jpg', 'D:\\\\1920Sem1\\\\CS4243\\\\project\\\\CS4243-Project\\\\datasets\\\\JPEGImages\\\\001.jpg', 'D:\\\\1920Sem1\\\\CS4243\\\\project\\\\CS4243-Project\\\\datasets\\\\JPEGImages\\\\002.jpg', 'D:\\\\1920Sem1\\\\CS4243\\\\project\\\\CS4243-Project\\\\datasets\\\\JPEGImages\\\\003.jpg', 'D:\\\\1920Sem1\\\\CS4243\\\\project\\\\CS4243-Project\\\\datasets\\\\JPEGImages\\\\004.jpg', 'D:\\\\1920Sem1\\\\CS4243\\\\project\\\\CS4243-Project\\\\datasets\\\\JPEGImages\\\\005.jpg', 'D:\\\\1920Sem1\\\\CS4243\\\\project\\\\CS4243-Project\\\\datasets\\\\JPEGImages\\\\006.jpg', 'D:\\\\1920Sem1\\\\CS4243\\\\project\\\\CS4243-Project\\\\datasets\\\\JPEGImages\\\\007.jpg', 'D:\\\\1920Sem1\\\\CS4243\\\\project\\\\CS4243-Project\\\\datasets\\\\JPEGImages\\\\008.jpg', 'D:\\\\1920Sem1\\\\CS4243\\\\project\\\\CS4243-Project\\\\datasets\\\\JPEGImages\\\\009.jpg', 'D:\\\\1920Sem1\\\\CS4243\\\\project\\\\CS4243-Project\\\\datasets\\\\JPEGImages\\\\010.jpg', 'D:\\\\1920Sem1\\\\CS4243\\\\project\\\\CS4243-Project\\\\datasets\\\\JPEGImages\\\\011.jpg', 'D:\\\\1920Sem1\\\\CS4243\\\\project\\\\CS4243-Project\\\\datasets\\\\JPEGImages\\\\012.jpg', 'D:\\\\1920Sem1\\\\CS4243\\\\project\\\\CS4243-Project\\\\datasets\\\\JPEGImages\\\\013.jpg', 'D:\\\\1920Sem1\\\\CS4243\\\\project\\\\CS4243-Project\\\\datasets\\\\JPEGImages\\\\014.jpg', 'D:\\\\1920Sem1\\\\CS4243\\\\project\\\\CS4243-Project\\\\datasets\\\\JPEGImages\\\\015.jpg', 'D:\\\\1920Sem1\\\\CS4243\\\\project\\\\CS4243-Project\\\\datasets\\\\JPEGImages\\\\016.jpg', 'D:\\\\1920Sem1\\\\CS4243\\\\project\\\\CS4243-Project\\\\datasets\\\\JPEGImages\\\\017.jpg', 'D:\\\\1920Sem1\\\\CS4243\\\\project\\\\CS4243-Project\\\\datasets\\\\JPEGImages\\\\018.jpg', 'D:\\\\1920Sem1\\\\CS4243\\\\project\\\\CS4243-Project\\\\datasets\\\\JPEGImages\\\\019.jpg', 'D:\\\\1920Sem1\\\\CS4243\\\\project\\\\CS4243-Project\\\\datasets\\\\JPEGImages\\\\020.jpg', 'D:\\\\1920Sem1\\\\CS4243\\\\project\\\\CS4243-Project\\\\datasets\\\\JPEGImages\\\\021.jpg', 'D:\\\\1920Sem1\\\\CS4243\\\\project\\\\CS4243-Project\\\\datasets\\\\JPEGImages\\\\022.jpg', 'D:\\\\1920Sem1\\\\CS4243\\\\project\\\\CS4243-Project\\\\datasets\\\\JPEGImages\\\\023.jpg', 'D:\\\\1920Sem1\\\\CS4243\\\\project\\\\CS4243-Project\\\\datasets\\\\JPEGImages\\\\025.jpg', 'D:\\\\1920Sem1\\\\CS4243\\\\project\\\\CS4243-Project\\\\datasets\\\\JPEGImages\\\\026.jpg', 'D:\\\\1920Sem1\\\\CS4243\\\\project\\\\CS4243-Project\\\\datasets\\\\JPEGImages\\\\027.jpg', 'D:\\\\1920Sem1\\\\CS4243\\\\project\\\\CS4243-Project\\\\datasets\\\\JPEGImages\\\\028.jpg', 'D:\\\\1920Sem1\\\\CS4243\\\\project\\\\CS4243-Project\\\\datasets\\\\JPEGImages\\\\029.jpg', 'D:\\\\1920Sem1\\\\CS4243\\\\project\\\\CS4243-Project\\\\datasets\\\\JPEGImages\\\\031.jpg', 'D:\\\\1920Sem1\\\\CS4243\\\\project\\\\CS4243-Project\\\\datasets\\\\JPEGImages\\\\032.jpg', 'D:\\\\1920Sem1\\\\CS4243\\\\project\\\\CS4243-Project\\\\datasets\\\\JPEGImages\\\\033.jpg', 'D:\\\\1920Sem1\\\\CS4243\\\\project\\\\CS4243-Project\\\\datasets\\\\JPEGImages\\\\034.jpg', 'D:\\\\1920Sem1\\\\CS4243\\\\project\\\\CS4243-Project\\\\datasets\\\\JPEGImages\\\\036.jpg', 'D:\\\\1920Sem1\\\\CS4243\\\\project\\\\CS4243-Project\\\\datasets\\\\JPEGImages\\\\037.jpg', 'D:\\\\1920Sem1\\\\CS4243\\\\project\\\\CS4243-Project\\\\datasets\\\\JPEGImages\\\\038.jpg', 'D:\\\\1920Sem1\\\\CS4243\\\\project\\\\CS4243-Project\\\\datasets\\\\JPEGImages\\\\039.jpg', 'D:\\\\1920Sem1\\\\CS4243\\\\project\\\\CS4243-Project\\\\datasets\\\\JPEGImages\\\\042.jpg', 'D:\\\\1920Sem1\\\\CS4243\\\\project\\\\CS4243-Project\\\\datasets\\\\JPEGImages\\\\043.jpg', 'D:\\\\1920Sem1\\\\CS4243\\\\project\\\\CS4243-Project\\\\datasets\\\\JPEGImages\\\\044.jpg', 'D:\\\\1920Sem1\\\\CS4243\\\\project\\\\CS4243-Project\\\\datasets\\\\JPEGImages\\\\048.jpg', 'D:\\\\1920Sem1\\\\CS4243\\\\project\\\\CS4243-Project\\\\datasets\\\\JPEGImages\\\\049.jpg', 'D:\\\\1920Sem1\\\\CS4243\\\\project\\\\CS4243-Project\\\\datasets\\\\JPEGImages\\\\050.jpg', 'D:\\\\1920Sem1\\\\CS4243\\\\project\\\\CS4243-Project\\\\datasets\\\\JPEGImages\\\\051.jpg', 'D:\\\\1920Sem1\\\\CS4243\\\\project\\\\CS4243-Project\\\\datasets\\\\JPEGImages\\\\052.jpg', 'D:\\\\1920Sem1\\\\CS4243\\\\project\\\\CS4243-Project\\\\datasets\\\\JPEGImages\\\\053.jpg', 'D:\\\\1920Sem1\\\\CS4243\\\\project\\\\CS4243-Project\\\\datasets\\\\JPEGImages\\\\055.jpg', 'D:\\\\1920Sem1\\\\CS4243\\\\project\\\\CS4243-Project\\\\datasets\\\\JPEGImages\\\\056.jpg', 'D:\\\\1920Sem1\\\\CS4243\\\\project\\\\CS4243-Project\\\\datasets\\\\JPEGImages\\\\057.jpg', 'D:\\\\1920Sem1\\\\CS4243\\\\project\\\\CS4243-Project\\\\datasets\\\\JPEGImages\\\\058.jpg', 'D:\\\\1920Sem1\\\\CS4243\\\\project\\\\CS4243-Project\\\\datasets\\\\JPEGImages\\\\059.jpg', 'D:\\\\1920Sem1\\\\CS4243\\\\project\\\\CS4243-Project\\\\datasets\\\\JPEGImages\\\\060.jpg', 'D:\\\\1920Sem1\\\\CS4243\\\\project\\\\CS4243-Project\\\\datasets\\\\JPEGImages\\\\061.jpg', 'D:\\\\1920Sem1\\\\CS4243\\\\project\\\\CS4243-Project\\\\datasets\\\\JPEGImages\\\\062.jpg', 'D:\\\\1920Sem1\\\\CS4243\\\\project\\\\CS4243-Project\\\\datasets\\\\JPEGImages\\\\063.jpg', 'D:\\\\1920Sem1\\\\CS4243\\\\project\\\\CS4243-Project\\\\datasets\\\\JPEGImages\\\\064.jpg', 'D:\\\\1920Sem1\\\\CS4243\\\\project\\\\CS4243-Project\\\\datasets\\\\JPEGImages\\\\065.jpg', 'D:\\\\1920Sem1\\\\CS4243\\\\project\\\\CS4243-Project\\\\datasets\\\\JPEGImages\\\\066.jpg', 'D:\\\\1920Sem1\\\\CS4243\\\\project\\\\CS4243-Project\\\\datasets\\\\JPEGImages\\\\067.jpg', 'D:\\\\1920Sem1\\\\CS4243\\\\project\\\\CS4243-Project\\\\datasets\\\\JPEGImages\\\\068.jpg', 'D:\\\\1920Sem1\\\\CS4243\\\\project\\\\CS4243-Project\\\\datasets\\\\JPEGImages\\\\069.jpg', 'D:\\\\1920Sem1\\\\CS4243\\\\project\\\\CS4243-Project\\\\datasets\\\\JPEGImages\\\\070.jpg', 'D:\\\\1920Sem1\\\\CS4243\\\\project\\\\CS4243-Project\\\\datasets\\\\JPEGImages\\\\071.jpg', 'D:\\\\1920Sem1\\\\CS4243\\\\project\\\\CS4243-Project\\\\datasets\\\\JPEGImages\\\\072.jpg', 'D:\\\\1920Sem1\\\\CS4243\\\\project\\\\CS4243-Project\\\\datasets\\\\JPEGImages\\\\074.jpg', 'D:\\\\1920Sem1\\\\CS4243\\\\project\\\\CS4243-Project\\\\datasets\\\\JPEGImages\\\\075.jpg', 'D:\\\\1920Sem1\\\\CS4243\\\\project\\\\CS4243-Project\\\\datasets\\\\JPEGImages\\\\076.jpg', 'D:\\\\1920Sem1\\\\CS4243\\\\project\\\\CS4243-Project\\\\datasets\\\\JPEGImages\\\\077.jpg', 'D:\\\\1920Sem1\\\\CS4243\\\\project\\\\CS4243-Project\\\\datasets\\\\JPEGImages\\\\078.jpg', 'D:\\\\1920Sem1\\\\CS4243\\\\project\\\\CS4243-Project\\\\datasets\\\\JPEGImages\\\\079.jpg']\n"
     ]
    }
   ],
   "source": [
    "import os\n",
    "image_dir = \"D:\\\\1920Sem1\\CS4243\\project\\CS4243-Project\\datasets\\JPEGImages\"\n",
    "images = [os.path.join(image_dir, img) for img in os.listdir(image_dir) if os.path.isfile(os.path.join(image_dir, img))]\n",
    "print(images)"
   ]
  },
  {
   "cell_type": "code",
   "execution_count": 30,
   "metadata": {},
   "outputs": [
    {
     "data": {
      "text/plain": [
       "True"
      ]
     },
     "execution_count": 30,
     "metadata": {},
     "output_type": "execute_result"
    }
   ],
   "source": [
    "img_save_dir = 'D:\\\\1920Sem1\\CS4243\\project_wx_tryout_code\\img_tryout'\n",
    "img_0 = cv2.imread(images[0])\n",
    "hsv = cv2.cvtColor(img_0, cv2.COLOR_RGB2HSV)\n",
    "\n",
    "lower_red = np.array([0,50,50])\n",
    "upper_red = np.array([40,255,255])\n",
    "mask = cv2.inRange(hsv, lower_red, upper_red)\n",
    "res = cv2.bitwise_and(img_0, img_0, mask=mask)\n",
    "\n",
    "cv2.imwrite(os.path.join(img_save_dir, 'MASKING_BLUE.jpeg'), mask)\n",
    "\n",
    "cv2.imwrite(os.path.join(img_save_dir, 'ONLY_BLUE_COLOR_PASSED.jpeg'), res)\n"
   ]
  },
  {
   "cell_type": "code",
   "execution_count": 30,
   "metadata": {},
   "outputs": [
    {
     "data": {
      "text/plain": [
       "True"
      ]
     },
     "execution_count": 30,
     "metadata": {},
     "output_type": "execute_result"
    }
   ],
   "source": [
    "img_save_dir = 'D:\\\\1920Sem1\\CS4243\\project_wx_tryout_code\\img_tryout'\n",
    "img_0 = cv2.imread(images[0])\n",
    "hsv = cv2.cvtColor(img_0, cv2.COLOR_RGB2HSV)\n",
    "\n",
    "lower_red = np.array([40,50,50])\n",
    "upper_red = np.array([80,255,255])\n",
    "mask = cv2.inRange(hsv, lower_red, upper_red)\n",
    "res = cv2.bitwise_and(img_0, img_0, mask=mask)\n",
    "\n",
    "cv2.imwrite(os.path.join(img_save_dir, 'MASKING_GREEN.jpeg'), mask)\n",
    "\n",
    "cv2.imwrite(os.path.join(img_save_dir, 'ONLY_GREEN_COLOR_PASSED.jpeg'), res)\n"
   ]
  },
  {
   "cell_type": "code",
   "execution_count": 31,
   "metadata": {
    "scrolled": true
   },
   "outputs": [
    {
     "data": {
      "text/plain": [
       "True"
      ]
     },
     "execution_count": 31,
     "metadata": {},
     "output_type": "execute_result"
    }
   ],
   "source": [
    "img_save_dir = 'D:\\\\1920Sem1\\CS4243\\project_wx_tryout_code\\img_tryout'\n",
    "img_0 = cv2.imread(images[0])\n",
    "hsv = cv2.cvtColor(img_0, cv2.COLOR_RGB2HSV)\n",
    "\n",
    "lower_red = np.array([80,50,50])\n",
    "upper_red = np.array([110,255,255])\n",
    "mask = cv2.inRange(hsv, lower_red, upper_red)\n",
    "res = cv2.bitwise_and(img_0, img_0, mask=mask)\n",
    "\n",
    "cv2.imwrite(os.path.join(img_save_dir, 'MASKING_YELLOW.jpeg'), mask)\n",
    "\n",
    "cv2.imwrite(os.path.join(img_save_dir, 'ONLY_YELLOW_COLOR_PASSED.jpeg'), res)\n"
   ]
  },
  {
   "cell_type": "code",
   "execution_count": 36,
   "metadata": {},
   "outputs": [
    {
     "data": {
      "text/plain": [
       "True"
      ]
     },
     "execution_count": 36,
     "metadata": {},
     "output_type": "execute_result"
    }
   ],
   "source": [
    "img_save_dir = 'D:\\\\1920Sem1\\CS4243\\project_wx_tryout_code\\img_tryout'\n",
    "img_0 = cv2.imread(images[0])\n",
    "hsv = cv2.cvtColor(img_0, cv2.COLOR_RGB2HSV)\n",
    "\n",
    "lower_red = np.array([110,80,80])\n",
    "upper_red = np.array([160,255,255])\n",
    "mask = cv2.inRange(hsv, lower_red, upper_red)\n",
    "res = cv2.bitwise_and(img_0, img_0, mask=mask)\n",
    "\n",
    "cv2.imwrite(os.path.join(img_save_dir, 'MASKING_RED.jpeg'), mask)\n",
    "\n",
    "cv2.imwrite(os.path.join(img_save_dir, 'ONLY_RED_COLOR_PASSED.jpeg'), res)\n"
   ]
  },
  {
   "cell_type": "code",
   "execution_count": 40,
   "metadata": {},
   "outputs": [
    {
     "data": {
      "text/plain": [
       "True"
      ]
     },
     "execution_count": 40,
     "metadata": {},
     "output_type": "execute_result"
    }
   ],
   "source": [
    "img_save_dir = 'D:\\\\1920Sem1\\CS4243\\project_wx_tryout_code\\img_tryout'\n",
    "img_0 = cv2.imread(images[0])\n",
    "hsv = cv2.cvtColor(img_0, cv2.COLOR_RGB2HSV)\n",
    "\n",
    "lower_red = np.array([0,0,255])\n",
    "upper_red = np.array([0,255,255])\n",
    "mask = cv2.inRange(hsv, lower_red, upper_red)\n",
    "res = cv2.bitwise_and(img_0, img_0, mask=mask)\n",
    "\n",
    "cv2.imwrite(os.path.join(img_save_dir, 'MASKING_WHITE.jpeg'), mask)\n",
    "\n",
    "cv2.imwrite(os.path.join(img_save_dir, 'ONLY_WHITE_COLOR_PASSED.jpeg'), res)\n"
   ]
  },
  {
   "cell_type": "code",
   "execution_count": 60,
   "metadata": {},
   "outputs": [
    {
     "data": {
      "text/plain": [
       "True"
      ]
     },
     "execution_count": 60,
     "metadata": {},
     "output_type": "execute_result"
    }
   ],
   "source": [
    "img_save_dir = 'D:\\\\1920Sem1\\CS4243\\project_wx_tryout_code\\img_tryout'\n",
    "img_0 = cv2.imread(images[4])\n",
    "hsv = cv2.cvtColor(img_0, cv2.COLOR_RGB2HSV)\n",
    "\n",
    "# mask_red_only = cv2.imread(os.path.join(img_save_dir, 'MASKING_RED.jpeg'))\n",
    "# mask_white_only = cv2.imread(os.path.join(img_save_dir, 'MASKING_WHITE.jpeg'))\n",
    "# mask_blue_only = cv2.imread(os.path.join(img_save_dir, 'MASKING_BLUE.jpeg'))\n",
    "# mask_yellow_only = cv2.imread(os.path.join(img_save_dir, 'MASKING_YELLOW.jpeg'))\n",
    "\n",
    "\n",
    "lower_red = np.array([110,80,80])\n",
    "upper_red = np.array([160,255,255])\n",
    "mask_red_only = cv2.inRange(hsv, lower_red, upper_red)\n",
    "\n",
    "lower_red = np.array([0,0,255])\n",
    "upper_red = np.array([255,255,255])\n",
    "mask_white_only = cv2.inRange(hsv, lower_red, upper_red)\n",
    "\n",
    "mask_red_and_white = mask_red_only | mask_white_only\n",
    "\n",
    "res = cv2.bitwise_and(img_0, img_0, mask=mask_red_and_white)\n",
    "\n",
    "cv2.imwrite(os.path.join(img_save_dir, 'RED_AND_WHITE_COLOR_PASSED_4.jpeg'), res)"
   ]
  },
  {
   "cell_type": "code",
   "execution_count": 79,
   "metadata": {},
   "outputs": [
    {
     "name": "stdout",
     "output_type": "stream",
     "text": [
      "(9921, 7015)\n",
      "[-7015.0]\n"
     ]
    }
   ],
   "source": [
    "img_save_dir = 'D:\\\\1920Sem1\\CS4243\\project_wx_tryout_code\\img_tryout'\n",
    "img_0 = cv2.imread(images[0])\n",
    "hsv = cv2.cvtColor(img_0, cv2.COLOR_RGB2HSV)\n",
    "\n",
    "lower_red = np.array([110,80,80])\n",
    "upper_red = np.array([160,255,255])\n",
    "mask = cv2.inRange(hsv, lower_red, upper_red) # mask value will only be 0 and 255, 255 is the red pixel\n",
    "res = cv2.bitwise_and(img_0, img_0, mask=mask)\n",
    "\n",
    "res_rot = np.rot90(res)\n",
    "mask_rot = np.rot90(mask)\n",
    "# print(res_rot[:, :, 2])\n",
    "print(mask_rot.shape)\n",
    "\n",
    "continuous_zero_threshold = 10\n",
    "\n",
    "streaks = []\n",
    "\n",
    "for i in range(mask_rot.shape[0]):\n",
    "# for i in range(1000, 1001):\n",
    "    col = mask_rot[i]\n",
    "    new_col = np.zeros(mask_rot.shape[1])\n",
    "    new_col[col == 255] = 1\n",
    "    new_col[col == 0] = -1\n",
    "    streak_array = get_streak_len_array(new_col)\n",
    "    streaks.append(streak_array)\n",
    "\n",
    "print(streaks[0])\n",
    "\n",
    "#     for j in range(len(col)):\n",
    "#         bool = col[j] != 0 and col[j] != 255\n",
    "#         if bool:\n",
    "#             print(col[j])\n",
    "    # col[col != 0] = 1\n",
    "    \n",
    "# np.savetxt(os.path.join(img_save_dir, 'result.txt'), mask)\n",
    "# cv2.imwrite(os.path.join(img_save_dir, 'MASKING_RED.jpeg'), mask)\n",
    "\n",
    "# cv2.imwrite(os.path.join(img_save_dir, 'ONLY_RED_COLOR_PASSED.jpeg'), res)"
   ]
  },
  {
   "cell_type": "code",
   "execution_count": 255,
   "metadata": {},
   "outputs": [
    {
     "name": "stdout",
     "output_type": "stream",
     "text": [
      "(204, 122)\n",
      "(276, 184)\n",
      "append negative streak_len:-77.0 at 77\n",
      "append negative streak_len:-36.0 at 120\n",
      "append negative streak_len:-7.0 at 141\n",
      "append negative streak_len:-13.0 at 170\n",
      "append negative streak_len:-13.0 at 193\n",
      "append negative streak_len:-17.0 at 223\n",
      "i m here\n",
      "cur_streak_len: -51.0\n",
      "streak_len:-52.0\n",
      "276\n",
      "[-1. -1. -1. -1. -1. -1. -1. -1. -1. -1. -1. -1. -1. -1. -1. -1. -1. -1.\n",
      " -1. -1. -1. -1. -1. -1. -1. -1. -1. -1. -1. -1. -1. -1. -1. -1. -1. -1.\n",
      " -1. -1. -1. -1. -1. -1. -1. -1. -1. -1. -1. -1. -1. -1. -1. -1. -1. -1.\n",
      " -1. -1. -1. -1. -1. -1. -1. -1. -1. -1. -1. -1. -1. -1. -1. -1. -1. -1.\n",
      " -1. -1. -1. -1. -1.  1.  1.  1.  1.  1.  1.  1. -1. -1. -1. -1. -1. -1.\n",
      " -1. -1. -1. -1. -1. -1. -1. -1. -1. -1. -1. -1. -1. -1. -1. -1. -1. -1.\n",
      " -1. -1. -1. -1. -1. -1. -1. -1. -1. -1. -1. -1.  1.  1.  1.  1.  1.  1.\n",
      "  1.  1.  1.  1.  1.  1.  1.  1. -1. -1. -1. -1. -1. -1. -1.  1.  1.  1.\n",
      "  1.  1.  1.  1.  1.  1.  1.  1.  1.  1.  1.  1.  1. -1. -1. -1. -1. -1.\n",
      " -1. -1. -1. -1. -1. -1. -1. -1.  1.  1.  1.  1.  1.  1.  1.  1.  1.  1.\n",
      " -1. -1. -1. -1. -1. -1. -1. -1. -1. -1. -1. -1. -1.  1.  1.  1.  1.  1.\n",
      "  1.  1.  1.  1.  1.  1.  1.  1. -1. -1. -1. -1. -1. -1. -1. -1. -1. -1.\n",
      " -1. -1. -1. -1. -1. -1. -1.  1. -1. -1. -1. -1. -1. -1. -1. -1. -1. -1.\n",
      " -1. -1. -1. -1. -1. -1. -1. -1. -1. -1. -1. -1. -1. -1. -1. -1. -1. -1.\n",
      " -1. -1. -1. -1. -1. -1. -1. -1. -1. -1. -1. -1. -1. -1. -1. -1. -1. -1.\n",
      " -1. -1. -1. -1. -1. -1.]\n",
      "[-77.0, 7.0, -36.0, 14.0, -7.0, 16.0, -13.0, 10.0, -13.0, 13.0, -17.0, 1.0, -52.0]\n",
      "276.0\n"
     ]
    }
   ],
   "source": [
    "wanda_mask = mask[4935:5139, 734:856]\n",
    "cv2.imwrite(os.path.join(img_save_dir, 'wanda_mask.jpeg'), wanda_mask)\n",
    "waldo_mask = mask[3981:4257, 9564:9748]\n",
    "cv2.imwrite(os.path.join(img_save_dir, 'waldo_mask.jpeg'), waldo_mask)\n",
    "print(wanda_mask.shape)\n",
    "print(waldo_mask.shape)\n",
    "mask_rot = np.rot90(wanda_mask)\n",
    "mask_rot = np.rot90(waldo_mask)\n",
    "col = mask_rot[85]\n",
    "new_col = np.zeros(mask_rot.shape[1])\n",
    "# col_1 = np.ones(11) * 255\n",
    "# col_2 = np.zeros(9)\n",
    "# col_3 = np.ones(9) * 255\n",
    "# col_4 = np.zeros(10)\n",
    "# col = np.concatenate([col_1, col_1, col_4, col_3])\n",
    "# new_col = np.zeros(len(col))\n",
    "new_col[col == 255] = 1\n",
    "new_col[col == 0] = -1\n",
    "streak_array = get_streak_len_array_with_approx(new_col, 0)\n",
    "print(len(col))\n",
    "print(new_col)\n",
    "print(streak_array)\n",
    "print(sum(np.abs(streak_array)))"
   ]
  },
  {
   "cell_type": "code",
   "execution_count": 256,
   "metadata": {
    "scrolled": true
   },
   "outputs": [
    {
     "name": "stdout",
     "output_type": "stream",
     "text": [
      "(8,)\n",
      "[ 0  2  3  5  6  7  8  9 10]\n",
      "[ 1  4  5  6  7  8  9 11]\n",
      "[5 6 7 8 9]\n"
     ]
    }
   ],
   "source": [
    "ratio_array = np.array([abs(streak_array[i]) / abs(streak_array[i + 1]) for i in range(len(streak_array) - 1)])\n",
    "ratio_range = (1/2, 2)\n",
    "print(ratio_array[ratio_array < ratio_range[1]].shape)\n",
    "accepted_ratio_indice, = np.where(np.logical_and(ratio_array > ratio_range[0], ratio_array < ratio_range[1]))\n",
    "less_ratio_indice, = np.where(ratio_array > ratio_range[0])\n",
    "more_ratio_indice, = np.where(ratio_array < ratio_range[1])\n",
    "print(less_ratio_indice)\n",
    "print(more_ratio_indice)\n",
    "print(accepted_ratio_indice)"
   ]
  },
  {
   "cell_type": "code",
   "execution_count": 257,
   "metadata": {},
   "outputs": [
    {
     "name": "stdout",
     "output_type": "stream",
     "text": [
      "[141.0, 157.0, 170.0, 180.0, 193.0]\n"
     ]
    }
   ],
   "source": [
    "stripe_start = [np.sum(np.abs(streak_array[:i])) for i in accepted_ratio_indice]\n",
    "print(stripe_start)"
   ]
  },
  {
   "cell_type": "code",
   "execution_count": 314,
   "metadata": {},
   "outputs": [],
   "source": [
    "def is_indice_continuous(lst_of_indice):\n",
    "    # right now the number of stripes accepted is 3\n",
    "    is_continuous = False\n",
    "    continuous_count = 0\n",
    "    prev = -1\n",
    "    start_index = -1\n",
    "    lst_of_start_and_end = []\n",
    "    for i in range(len(lst_of_indice)):\n",
    "        if i == 0:\n",
    "            prev = lst_of_indice[i]\n",
    "            start_index = i\n",
    "            continuous_count = 1\n",
    "            continue\n",
    "            \n",
    "        if lst_of_indice[i] - prev == 1:\n",
    "            # the streak continues\n",
    "            continuous_count += 1\n",
    "        else:\n",
    "            # the streak ends\n",
    "            if continuous_count >= 3:\n",
    "#                 print(lst_of_indice[i])\n",
    "                lst_of_start_and_end.append((start_index, i))\n",
    "                is_continuous = True\n",
    "\n",
    "            continuous_count = 1\n",
    "            start_index = i\n",
    "            \n",
    "        if i == len(lst_of_indice) - 1:\n",
    "            if start_index != -1 and continuous_count >= 3:\n",
    "                lst_of_start_and_end.append((start_index, i))\n",
    "                is_continuous = True\n",
    "        \n",
    "        prev = lst_of_indice[i]\n",
    "        \n",
    "    return (is_continuous, lst_of_start_and_end)\n",
    "                \n",
    "                "
   ]
  },
  {
   "cell_type": "code",
   "execution_count": 315,
   "metadata": {},
   "outputs": [
    {
     "name": "stdout",
     "output_type": "stream",
     "text": [
      "[5 6 7 8 9]\n",
      "(False, [])\n"
     ]
    }
   ],
   "source": [
    "print(accepted_ratio_indice)\n",
    "print(is_indice_continuous([3, 4]))"
   ]
  },
  {
   "cell_type": "code",
   "execution_count": 316,
   "metadata": {},
   "outputs": [],
   "source": [
    "def get_suspected_stripe_region_for_col(col, ratio_range=(1/2, 2)):\n",
    "    new_col = np.zeros(len(col))\n",
    "    new_col[col == 255] = 1\n",
    "    new_col[col == 0] = -1\n",
    "    \n",
    "    streak_array = get_streak_len_array_with_approx(new_col, 0)\n",
    "    ratio_array = np.array([abs(streak_array[i]) / abs(streak_array[i + 1]) for i in range(len(streak_array) - 1)])\n",
    "    print(ratio_array[ratio_array < ratio_range[1]].shape)\n",
    "    accepted_ratio_indice, = np.where(np.logical_and(ratio_array > ratio_range[0], ratio_array < ratio_range[1]))\n",
    "    print(accepted_ratio_indice)\n",
    "    is_accepted_ratio_indice_continuous, lst_of_start_and_end = is_indice_continuous(accepted_ratio_indice)\n",
    "    print(lst_of_start_and_end)\n",
    "    if is_accepted_ratio_indice_continuous:\n",
    "        # stripe_region = [[starting_pixel_of_Streak, ending_pixel], [starting_pixel, ending_pixel], [starting_pixel, ending_pixel], ...]\n",
    "        stripe_region = [[np.sum(np.abs(streak_array[:accepted_ratio_indice[start]])), np.sum(np.abs(streak_array[:accepted_ratio_indice[end]]))] for start, end in lst_of_start_and_end]\n",
    "        # from here examine the percentage of white pixels in the region\n",
    "        # if there are white pixels dominating the negative pixels, then it is stripes\n",
    "        # return (1, start_of_stripe_region, end_of_stripe_region, number_of_stripes, average_width_of_stripes)\n",
    "        return (True, stripe_region)\n",
    "    \n",
    "    return (False, [])\n",
    "    "
   ]
  },
  {
   "cell_type": "code",
   "execution_count": 1,
   "metadata": {},
   "outputs": [],
   "source": [
    "def get_suspected_waldo_stripe_region_for_col(red_mask_col, white_mask_col, ratio_range=(1/2, 2), white_pixel_threshold=0.3):\n",
    "    assert red_mask_col.shape == white_mask_col.shape, \"the mask column inputs for white and red masks are of different shapes.\"\n",
    "    \n",
    "    new_red_mask_col = np.zeros(len(red_mask_col))\n",
    "    new_red_mask_col[red_mask_col == 255] = 1\n",
    "    new_red_mask_col[red_mask_col == 0] = -1\n",
    "    \n",
    "    new_white_mask_col = np.zeros(len(white_mask_col))\n",
    "    new_white_mask_col[white_mask_col == 255] = 1\n",
    "    new_white_mask_col[white_mask_col == 0] = 0\n",
    "    \n",
    "    streak_array = get_streak_len_array_with_approx(new_red_mask_col, 0)\n",
    "    ratio_array = np.array([abs(streak_array[i]) / abs(streak_array[i + 1]) for i in range(len(streak_array) - 1)])\n",
    "    accepted_ratio_indice, = np.where(np.logical_and(ratio_array > ratio_range[0], ratio_array < ratio_range[1]))\n",
    "    is_accepted_ratio_indice_continuous, lst_of_start_and_end = is_indice_continuous(accepted_ratio_indice)\n",
    "    revised_lst_of_start_and_end = []\n",
    "    if is_accepted_ratio_indice_continuous:\n",
    "        # then check if the negative pixels are white pixels\n",
    "        for start, end in lst_of_start_and_end:\n",
    "            is_region_start_with_red = streak_array[start] > 0\n",
    "            \n",
    "            offset = 0\n",
    "            if is_region_start_with_red:\n",
    "                offset = 1\n",
    "            \n",
    "            total_number_of_white_pixels = 0\n",
    "            total_number_of_non_red_pixels = 0\n",
    "            while start + offset < end:\n",
    "                supposedly_white_pixel_region = [np.sum(np.abs(streak_array[:accepted_ratio_indice[start + offset]])), np.sum(np.abs(streak_array[:accepted_ratio_indice[start + offset + 1]]))]\n",
    "                number_of_white_pixels = np.sum(new_white_mask_col[supposedly_white_pixel_region[0] : supposedly_white_pixel_region[1]])\n",
    "                number_of_non_red_pixels = supposedly_white_pixel_region[1] - supposedly_white_pixel_region[0]\n",
    "                total_number_of_white_pixels += number_of_white_pixels\n",
    "                total_number_of_non_red_pixels += number_of_non_red_pixels\n",
    "                offset += 2\n",
    "            if total_number_of_white_pixels / total_number_of_non_red_pixels > white_pixel_threshold:\n",
    "                revised_lst_of_start_and_end.append((start, end))\n",
    "        \n",
    "        \n",
    "        \n",
    "        # stripe_region = [[starting_pixel_of_Streak, ending_pixel], [starting_pixel, ending_pixel], [starting_pixel, ending_pixel], ...]\n",
    "        stripe_region = [[np.sum(np.abs(streak_array[:accepted_ratio_indice[start]])), np.sum(np.abs(streak_array[:accepted_ratio_indice[end]]))] for start, end in revised_lst_of_start_and_end]\n",
    "        # from here examine the percentage of white pixels in the region\n",
    "        # if there are white pixels dominating the negative pixels, then it is stripes\n",
    "        # return (1, start_of_stripe_region, end_of_stripe_region, number_of_stripes, average_width_of_stripes)\n",
    "        return (True, stripe_region)\n",
    "    \n",
    "    return (False, [])\n",
    "                "
   ]
  },
  {
   "cell_type": "code",
   "execution_count": 317,
   "metadata": {},
   "outputs": [],
   "source": [
    "def is_col_contain_stripes(col, ratio_range=(1/2, 2)):\n",
    "    new_col = np.zeros(len(col))\n",
    "    new_col[col == 255] = 1\n",
    "    new_col[col == 0] = -1\n",
    "    \n",
    "    streak_array = get_streak_len_array_with_approx(new_col, 0)\n",
    "    ratio_array = np.array([abs(streak_array[i]) / abs(streak_array[i + 1]) for i in range(len(streak_array) - 1)])\n",
    "    accepted_ratio_indice, = np.where(np.logical_and(ratio_array > ratio_range[0], ratio_array < ratio_range[1]))\n",
    "    is_accepted_ratio_indice_continuous, lst_of_start_and_end = is_indice_continuous(accepted_ratio_indice)\n",
    "    if is_accepted_ratio_indice_continuous:\n",
    "        # from here examine the percentage of white pixels in the region\n",
    "        return True\n",
    "    \n",
    "    return False\n",
    "    "
   ]
  },
  {
   "cell_type": "code",
   "execution_count": 321,
   "metadata": {},
   "outputs": [
    {
     "name": "stdout",
     "output_type": "stream",
     "text": [
      "[False False False False False False False False False False False False\n",
      " False False False False False False False False False False False False\n",
      " False False False False  True False False False False False False False\n",
      "  True False False False False False False False False False False False\n",
      " False False False False False False False False False False False False\n",
      " False False False False False False False False False False False False\n",
      " False False False False False False False False False  True  True  True\n",
      "  True  True  True  True  True  True  True  True  True  True  True  True\n",
      "  True  True  True  True  True  True  True  True  True  True  True  True\n",
      "  True  True  True  True  True  True  True  True  True  True  True  True\n",
      "  True  True  True  True  True  True  True  True  True  True  True  True\n",
      "  True False  True  True False False  True  True  True  True  True  True\n",
      "  True  True False  True  True  True  True  True  True  True  True  True\n",
      "  True  True  True  True  True  True  True  True  True  True  True  True\n",
      " False  True  True False  True False False False False  True False  True\n",
      " False False False False]\n",
      "[ 28  36  81  82  83  84  85  86  87  88  89  90  91  92  93  94  95  96\n",
      "  97  98  99 100 101 102 103 104 105 106 107 108 109 110 111 112 113 114\n",
      " 115 116 117 118 119 120 121 122 123 124 125 126 127 128 129 130 131 132\n",
      " 134 135 138 139 140 141 142 143 144 145 147 148 149 150 151 152 153 154\n",
      " 155 156 157 158 159 160 161 162 163 164 165 166 167 169 170 172 177 179]\n",
      "(True, [(2, 54), (56, 64), (64, 85)])\n"
     ]
    }
   ],
   "source": [
    "result  = np.apply_along_axis(is_col_contain_stripes, 1, mask_rot)\n",
    "print(result)\n",
    "col_indice = np.arange(mask_rot.shape[0])\n",
    "print(col_indice[result])\n",
    "print(is_indice_continuous(col_indice[result]))"
   ]
  },
  {
   "cell_type": "code",
   "execution_count": 297,
   "metadata": {},
   "outputs": [
    {
     "name": "stdout",
     "output_type": "stream",
     "text": [
      "append negative streak_len:-77.0 at 77\n",
      "append negative streak_len:-36.0 at 120\n",
      "append negative streak_len:-7.0 at 141\n",
      "append negative streak_len:-13.0 at 170\n",
      "append negative streak_len:-13.0 at 193\n",
      "append negative streak_len:-17.0 at 223\n",
      "i m here\n",
      "cur_streak_len: -51.0\n",
      "streak_len:-52.0\n",
      "(8,)\n",
      "[5 6 7 8 9]\n",
      "[(0, 4)]\n",
      "[[141.0, 193.0]]\n",
      "276\n"
     ]
    },
    {
     "data": {
      "text/plain": [
       "True"
      ]
     },
     "execution_count": 297,
     "metadata": {},
     "output_type": "execute_result"
    }
   ],
   "source": [
    "print(get_suspected_waldo_stripe_region_for_col(mask_rot[85]))\n",
    "print(len(mask_rot[85]))\n",
    "cv2.imwrite(os.path.join(img_save_dir, 'waldo_mask_0_134.jpeg'), mask_rot[:, 141:193])"
   ]
  },
  {
   "cell_type": "code",
   "execution_count": 77,
   "metadata": {},
   "outputs": [],
   "source": [
    "def get_streak_len_array(unit_lst):\n",
    "    previous = 0\n",
    "    streak_len_array = []\n",
    "    streak_len = 0\n",
    "    for i in range(len(unit_lst)):\n",
    "        if i == 0:\n",
    "            previous = unit_lst[i]\n",
    "        \n",
    "        if previous == unit_lst[i]:\n",
    "            streak_len += unit_lst[i]\n",
    "            if i == len(unit_lst) - 1:\n",
    "                streak_len_array.append(streak_len)\n",
    "        else:\n",
    "            streak_len_array.append(streak_len)\n",
    "            streak_len = 0\n",
    "            \n",
    "        previous = unit_lst[i]\n",
    "        \n",
    "    return streak_len_array"
   ]
  },
  {
   "cell_type": "code",
   "execution_count": 309,
   "metadata": {},
   "outputs": [],
   "source": [
    "def get_streak_len_array_with_approx(unit_lst, threshold):\n",
    "    # in the unit_lst, 1 represents the superior pixel value, -1 is the inferior pixel value\n",
    "    # the superior pixel value is the one that is well captured in color distillation \n",
    "    # in our case e.g. red is the superior pixel value because it is well captured \n",
    "    # and white is the inferior pixel value because it might be noise\n",
    "    # we want to restore the shape outlined by the superior pixel value\n",
    "    # hence we need to minimize the disturbannce by the inferior pixel value\n",
    "    # hence we need to remove the 'sparse' inferior pixel value located within the streaks of superior pixel values\n",
    "    # the definition of sparse is given by the threshold\n",
    "    previous = 0\n",
    "    streak_len_array = []\n",
    "    streak_len = 0\n",
    "    fast_forward_count = 0\n",
    "    for i in range(len(unit_lst)):\n",
    "        if i == 0:\n",
    "            previous = unit_lst[i]\n",
    "            \n",
    "        if fast_forward_count > 0:\n",
    "            fast_forward_count -= 1\n",
    "            if i == len(unit_lst) - 1:\n",
    "#                 print(\"i m at the last fast forward\")\n",
    "                streak_len_array.append(streak_len)\n",
    "            continue\n",
    "        \n",
    "        if previous == unit_lst[i]:\n",
    "            cur_streak_len = streak_len\n",
    "            streak_len += unit_lst[i]\n",
    "            if i == len(unit_lst) - 1:\n",
    "                streak_len_array.append(streak_len)\n",
    "#                 print(\"i m here\")\n",
    "#                 print(\"cur_streak_len: \" + str(cur_streak_len))\n",
    "#                 print(\"streak_len:\" + str(streak_len))\n",
    "            previous = unit_lst[i]\n",
    "        else:\n",
    "            if streak_len > 0:\n",
    "                # superior pixel streak ending\n",
    "                cur_streak_len = streak_len\n",
    "                # we need to look ahead the threshold number of pixels to see if theres any superior pixel\n",
    "                next_few_number = min(threshold, len(unit_lst) - 1 - i)\n",
    "                next_few_pixels = unit_lst[i : i+1+next_few_number]\n",
    "                # if there is we will continue the superior pixel streak from there\n",
    "                indice_of_next_superior_pixel, = np.where(next_few_pixels == 1)\n",
    "                if len(indice_of_next_superior_pixel) != 0:\n",
    "                    next_superior = max(indice_of_next_superior_pixel)\n",
    "                    streak_len += 1 + next_superior\n",
    "#                     print(\"i: \" + str(i))\n",
    "#                     print(\"next_superior:\" + str(next_superior))\n",
    "#                     print(\"streak_len_before_fast_forward:\" + str(streak_len))\n",
    "                    fast_forward_count = next_superior\n",
    "                    previous = abs(unit_lst[i])\n",
    "                # if not we end the superior pixel streak here and start a new inferior pixel streak\n",
    "                else:\n",
    "#                     if streak_len == 0:\n",
    "#                         print(\"alert! theres 0!\")\n",
    "#                         print(\"i: \" + str(i))\n",
    "#                         print(\"this pixel: \" + str(unit_lst[i]))\n",
    "#                         print(\"previous pixel: \" + str(unit_lst[i - 1]))\n",
    "                    streak_len_array.append(cur_streak_len)\n",
    "                    streak_len = 0\n",
    "                    streak_len += unit_lst[i]\n",
    "                    previous = unit_lst[i]\n",
    "            elif streak_len < 0:\n",
    "                # inferior pixel streak ending\n",
    "                # we will start a new superior pixel streak\n",
    "#                 if streak_len == 0:\n",
    "#                     print(\"alert! theres 0!\")\n",
    "#                     print(\"i: \" + str(i))\n",
    "#                     print(\"this pixel: \" + str(unit_lst[i]))\n",
    "#                     print(\"previous pixel: \" + str(unit_lst[i - 1]))\n",
    "                streak_len_array.append(streak_len)\n",
    "#                 print(\"append negative streak_len:\" + str(streak_len) + \" at \" + str(i))\n",
    "                streak_len = 0\n",
    "                streak_len += unit_lst[i]\n",
    "                previous = unit_lst[i]\n",
    "            \n",
    "    return streak_len_array"
   ]
  },
  {
   "cell_type": "code",
   "execution_count": 310,
   "metadata": {},
   "outputs": [
    {
     "name": "stdout",
     "output_type": "stream",
     "text": [
      "2\n"
     ]
    }
   ],
   "source": [
    "i, = np.where(np.array([0, 1, 1]) == 1)\n",
    "print(max(i))"
   ]
  },
  {
   "cell_type": "code",
   "execution_count": 35,
   "metadata": {},
   "outputs": [
    {
     "name": "stdout",
     "output_type": "stream",
     "text": [
      "[]\n"
     ]
    }
   ],
   "source": [
    "streak_ndarray = np.array(streaks)\n",
    "print(streaks[3])"
   ]
  },
  {
   "cell_type": "code",
   "execution_count": 44,
   "metadata": {},
   "outputs": [
    {
     "name": "stdout",
     "output_type": "stream",
     "text": [
      "255\n"
     ]
    },
    {
     "ename": "IndexError",
     "evalue": "index 3 is out of bounds for axis 2 with size 3",
     "output_type": "error",
     "traceback": [
      "\u001b[1;31m---------------------------------------------------------------------------\u001b[0m",
      "\u001b[1;31mIndexError\u001b[0m                                Traceback (most recent call last)",
      "\u001b[1;32m<ipython-input-44-4341059aa2b4>\u001b[0m in \u001b[0;36m<module>\u001b[1;34m\u001b[0m\n\u001b[0;32m      1\u001b[0m \u001b[0mprint\u001b[0m\u001b[1;33m(\u001b[0m\u001b[0mmask\u001b[0m\u001b[1;33m[\u001b[0m\u001b[1;36m0\u001b[0m\u001b[1;33m]\u001b[0m\u001b[1;33m[\u001b[0m\u001b[1;36m0\u001b[0m\u001b[1;33m]\u001b[0m\u001b[1;33m)\u001b[0m\u001b[1;33m\u001b[0m\u001b[1;33m\u001b[0m\u001b[0m\n\u001b[1;32m----> 2\u001b[1;33m \u001b[0mprint\u001b[0m\u001b[1;33m(\u001b[0m\u001b[0mres\u001b[0m\u001b[1;33m[\u001b[0m\u001b[1;36m0\u001b[0m\u001b[1;33m:\u001b[0m\u001b[1;36m0\u001b[0m\u001b[1;33m,\u001b[0m \u001b[1;36m0\u001b[0m\u001b[1;33m:\u001b[0m\u001b[1;36m0\u001b[0m\u001b[1;33m,\u001b[0m \u001b[1;36m3\u001b[0m\u001b[1;33m]\u001b[0m\u001b[1;33m)\u001b[0m\u001b[1;33m\u001b[0m\u001b[1;33m\u001b[0m\u001b[0m\n\u001b[0m",
      "\u001b[1;31mIndexError\u001b[0m: index 3 is out of bounds for axis 2 with size 3"
     ]
    }
   ],
   "source": [
    "print(mask[0][0])\n",
    "print(res[0:0, 0:0, 3])"
   ]
  },
  {
   "cell_type": "code",
   "execution_count": null,
   "metadata": {},
   "outputs": [],
   "source": [
    "new_pic = []\n",
    "\n",
    "for i in range(len(streaks)):\n",
    "    new_pic_col = []\n",
    "    streak_array = streaks[i]\n",
    "    for k in range(len(streak_array)):\n",
    "        single_streak_len = streak_array[k]\n",
    "        is_streak_positive = single_streak_len > 0\n",
    "        \n",
    "        if is_streak_positive:\n",
    "            for r in range(abs(single_streak_len)):\n",
    "                new_pic_col.append(255)\n",
    "        else:\n",
    "            for r in range(abs(single_streak_len)):\n",
    "                new_pic_col.append(0)\n",
    "    \n",
    "    new_pic.append(new_pic_col)"
   ]
  },
  {
   "cell_type": "code",
   "execution_count": null,
   "metadata": {},
   "outputs": [],
   "source": [
    "new_pic_mask_ndarray = np.rot90(np.array(new_pic), 3)\n",
    "new_pic_res = cv2.bitwise_and(img_0, img_0, mask=new_pic_mask_ndarray)\n",
    "cv2.imwrite(os.path.join(img_save_dir, 'NEW_PIC_ONLY_RED_COLOR_PASSED.jpeg'), new_pic_res)"
   ]
  },
  {
   "cell_type": "code",
   "execution_count": 47,
   "metadata": {},
   "outputs": [
    {
     "data": {
      "text/plain": [
       "True"
      ]
     },
     "execution_count": 47,
     "metadata": {},
     "output_type": "execute_result"
    }
   ],
   "source": [
    "new_image = np.ones((1000, 1000)) * 255\n",
    "cv2.imwrite(os.path.join(img_save_dir, 'NEW_PIC_ONLY_RED_COLOR_PASSED.jpeg'), new_image)"
   ]
  },
  {
   "cell_type": "code",
   "execution_count": 165,
   "metadata": {},
   "outputs": [
    {
     "name": "stdout",
     "output_type": "stream",
     "text": [
      "(0,)\n"
     ]
    }
   ],
   "source": [
    "print(np.array([]).shape)"
   ]
  },
  {
   "cell_type": "code",
   "execution_count": null,
   "metadata": {},
   "outputs": [],
   "source": []
  }
 ],
 "metadata": {
  "kernelspec": {
   "display_name": "Python 3",
   "language": "python",
   "name": "python3"
  },
  "language_info": {
   "codemirror_mode": {
    "name": "ipython",
    "version": 3
   },
   "file_extension": ".py",
   "mimetype": "text/x-python",
   "name": "python",
   "nbconvert_exporter": "python",
   "pygments_lexer": "ipython3",
   "version": "3.7.4"
  }
 },
 "nbformat": 4,
 "nbformat_minor": 2
}
