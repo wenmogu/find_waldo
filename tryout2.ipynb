{
 "cells": [
  {
   "cell_type": "code",
   "execution_count": 357,
   "metadata": {},
   "outputs": [
    {
     "name": "stdout",
     "output_type": "stream",
     "text": [
      "Populating the interactive namespace from numpy and matplotlib\n"
     ]
    },
    {
     "name": "stderr",
     "output_type": "stream",
     "text": [
      "d:\\1920sem1\\cs4243\\project_wx_tryout\\lib\\site-packages\\IPython\\core\\magics\\pylab.py:160: UserWarning: pylab import has clobbered these variables: ['hsv']\n",
      "`%matplotlib` prevents importing * from pylab and numpy\n",
      "  \"\\n`%matplotlib` prevents importing * from pylab and numpy\"\n"
     ]
    }
   ],
   "source": [
    "# from waldo_stripes import *\n",
    "import cv2\n",
    "import numpy as np\n",
    "%pylab inline\n",
    "import matplotlib.pyplot as plt\n",
    "import itertools as itertools \n",
    "import time"
   ]
  },
  {
   "cell_type": "code",
   "execution_count": 358,
   "metadata": {},
   "outputs": [],
   "source": [
    "import os\n",
    "image_dir = \"D:\\\\1920Sem1\\CS4243\\project\\CS4243-Project\\datasets\\JPEGImages\"\n",
    "images = [os.path.join(image_dir, img) for img in os.listdir(image_dir) if os.path.isfile(os.path.join(image_dir, img))]"
   ]
  },
  {
   "cell_type": "code",
   "execution_count": 359,
   "metadata": {},
   "outputs": [],
   "source": [
    "img_1 = cv2.imread(images[0])\n",
    "wanda_img = img_1[4935:5139, 734:856]\n",
    "waldo_img = img_1[3981:4257, 9564:9748]"
   ]
  },
  {
   "cell_type": "code",
   "execution_count": 360,
   "metadata": {},
   "outputs": [],
   "source": [
    "img_0 = np.rot90(np.rot90(img_1)[9921-856:9921-734, :],3)"
   ]
  },
  {
   "cell_type": "code",
   "execution_count": 326,
   "metadata": {},
   "outputs": [],
   "source": [
    "hsv = cv2.cvtColor(img_0, cv2.COLOR_RGB2HSV)\n",
    "\n",
    "lower_red = np.array([110,80,80])\n",
    "upper_red = np.array([160,255,255])\n",
    "mask_red_only = cv2.inRange(hsv, lower_red, upper_red)\n",
    "\n",
    "lower_white = np.array([0,0,255])\n",
    "upper_white = np.array([255,255,255])\n",
    "mask_white_only = cv2.inRange(hsv, lower_white, upper_white)"
   ]
  },
  {
   "cell_type": "code",
   "execution_count": 327,
   "metadata": {},
   "outputs": [
    {
     "name": "stdout",
     "output_type": "stream",
     "text": [
      "(7015, 122, 3)\n"
     ]
    }
   ],
   "source": [
    "print(img_0.shape)"
   ]
  },
  {
   "cell_type": "code",
   "execution_count": 328,
   "metadata": {},
   "outputs": [],
   "source": [
    "red_mask_rot = np.rot90(mask_red_only)\n",
    "white_mask_rot = np.rot90(mask_white_only)\n",
    "img_rot = np.rot90(hsv)"
   ]
  },
  {
   "cell_type": "code",
   "execution_count": 329,
   "metadata": {},
   "outputs": [],
   "source": [
    "# red_mask_rot = red_mask_rot[9921-856:9921-734  ,4935:5139]\n",
    "# white_mask_rot = white_mask_rot[9921-856:9921-734  ,4935:5139]"
   ]
  },
  {
   "cell_type": "code",
   "execution_count": 330,
   "metadata": {},
   "outputs": [
    {
     "data": {
      "image/png": "[encoded data removed]",
      "text/plain": [
       "<Figure size 432x288 with 1 Axes>"
      ]
     },
     "metadata": {
      "needs_background": "light"
     },
     "output_type": "display_data"
    }
   ],
   "source": [
    "plt.imshow(img_rot)\n",
    "plt.show()"
   ]
  },
  {
   "cell_type": "code",
   "execution_count": 331,
   "metadata": {},
   "outputs": [
    {
     "data": {
      "image/png": "[encoded data removed]",
      "text/plain": [
       "<Figure size 432x288 with 1 Axes>"
      ]
     },
     "metadata": {
      "needs_background": "light"
     },
     "output_type": "display_data"
    },
    {
     "name": "stdout",
     "output_type": "stream",
     "text": [
      "[0 0]\n"
     ]
    }
   ],
   "source": [
    "plt.imshow(red_mask_rot[50:52, :])\n",
    "plt.show()\n",
    "print(red_mask_rot[50:52, 561])"
   ]
  },
  {
   "cell_type": "code",
   "execution_count": 332,
   "metadata": {},
   "outputs": [
    {
     "data": {
      "image/png": "[encoded data removed]",
      "text/plain": [
       "<Figure size 432x288 with 1 Axes>"
      ]
     },
     "metadata": {
      "needs_background": "light"
     },
     "output_type": "display_data"
    },
    {
     "name": "stdout",
     "output_type": "stream",
     "text": [
      "[[  0   0 255]\n",
      " [  0   0 255]]\n"
     ]
    }
   ],
   "source": [
    "plt.imshow(white_mask_rot[50:52, 560:670])\n",
    "plt.show()\n",
    "print(img_rot[50:52, 580])"
   ]
  },
  {
   "cell_type": "code",
   "execution_count": 333,
   "metadata": {},
   "outputs": [
    {
     "name": "stdout",
     "output_type": "stream",
     "text": [
      "[121 120 119 118 117 116 115 114 113 112 111 110 109 108 107 106 105 104\n",
      " 103 102 101 100  99  98  97  96  95  94  93  92  91  90  89  88  87  86\n",
      "  85  84  83  82  81  80  79  78  77  76  75  74  73  72  71  70  69  68\n",
      "  67  66  65  64  63  62  61  60  59  58  57  56  55  54  53  52  51  50\n",
      "  49  48  47  46  45  44  43  42  41  40  39  38  37  36  35  34  33  32\n",
      "  31  30  29  28  27  26  25  24  23  22  21  20  19  18  17  16  15  14\n",
      "  13  12  11  10   9   8   7   6   5   4   3   2   1   0]\n",
      "(7015, 122)\n",
      "(122, 14031)\n",
      "[  0   1   2   3   4   5   6   7   8   9  10  11  12  13  14  15  16  17\n",
      "  18  19  20  21  22  23  24  25  26  27  28  29  30  31  32  33  34  35\n",
      "  36  37  38  39  40  41  42  43  44  45  46  47  48  49  50  51  52  53\n",
      "  54  55  56  57  58  59  60  61  62  63  64  65  66  67  68  69  70  71\n",
      "  72  73  74  75  76  77  78  79  80  81  82  83  84  85  86  87  88  89\n",
      "  90  91  92  93  94  95  96  97  98  99 100 101 102 103 104 105 106 107\n",
      " 108 109 110 111 112 113 114 115 116 117 118 119 120 121]\n"
     ]
    }
   ],
   "source": [
    "# attach a column of row number to the masks\n",
    "index_array = np.flip(np.arange(mask_red_only.shape[1]))\n",
    "print(index_array)\n",
    "print(mask_red_only.shape)\n",
    "stacked_red = np.vstack((index_array, mask_red_only))\n",
    "stacked_red_white = np.vstack((stacked_red, mask_white_only))\n",
    "\n",
    "red_mask_rot = np.rot90(stacked_red)\n",
    "red_white_mask_rot = np.rot90(stacked_red_white)\n",
    "\n",
    "print(red_white_mask_rot.shape)\n",
    "print(red_white_mask_rot[:, 0])"
   ]
  },
  {
   "cell_type": "code",
   "execution_count": 361,
   "metadata": {},
   "outputs": [],
   "source": [
    "def preprocess_input_img(img_0):\n",
    "    hsv = cv2.cvtColor(img_0, cv2.COLOR_RGB2HSV)\n",
    "\n",
    "    lower_red = np.array([110,80,80])\n",
    "    upper_red = np.array([160,255,255])\n",
    "    mask_red_only = cv2.inRange(hsv, lower_red, upper_red)\n",
    "\n",
    "    lower_white = np.array([0,0,255])\n",
    "    upper_white = np.array([255,255,255])\n",
    "    mask_white_only = cv2.inRange(hsv, lower_white, upper_white)\n",
    "    \n",
    "    # attach a column of row number to the masks\n",
    "    index_array = np.flip(np.arange(mask_red_only.shape[1]))\n",
    "\n",
    "    stacked_red = np.vstack((index_array, mask_red_only))\n",
    "    stacked_red_white = np.vstack((stacked_red, mask_white_only))\n",
    "\n",
    "    red_mask_rot = np.rot90(stacked_red)\n",
    "    red_white_mask_rot = np.rot90(stacked_red_white)\n",
    "    \n",
    "    return red_white_mask_rot"
   ]
  },
  {
   "cell_type": "code",
   "execution_count": 362,
   "metadata": {},
   "outputs": [],
   "source": [
    "red_white_mask_rot = preprocess_input_img(img_0)"
   ]
  },
  {
   "cell_type": "code",
   "execution_count": 363,
   "metadata": {},
   "outputs": [],
   "source": [
    "col_no = 9921-856 + 50\n",
    "col_no = 50"
   ]
  },
  {
   "cell_type": "code",
   "execution_count": 364,
   "metadata": {},
   "outputs": [
    {
     "name": "stdout",
     "output_type": "stream",
     "text": [
      "(122, 14031)\n"
     ]
    }
   ],
   "source": [
    "# print(red_mask_rot.shape)\n",
    "# print(white_mask_rot.shape)\n",
    "# print(mask_white_only.shape)\n",
    "print(red_white_mask_rot.shape)"
   ]
  },
  {
   "cell_type": "code",
   "execution_count": 367,
   "metadata": {},
   "outputs": [
    {
     "name": "stdout",
     "output_type": "stream",
     "text": [
      "[[ 1.00000000e+00  5.00000000e+01  5.06000000e+03  5.16000000e+03\n",
      "   7.00000000e+00  1.42857143e+01]\n",
      " [ 0.00000000e+00  5.00000000e+01 -1.00000000e+00 -1.00000000e+00\n",
      "   0.00000000e+00  0.00000000e+00]\n",
      " [ 0.00000000e+00  5.00000000e+01 -1.00000000e+00 -1.00000000e+00\n",
      "   0.00000000e+00  0.00000000e+00]\n",
      " [ 0.00000000e+00  5.00000000e+01 -1.00000000e+00 -1.00000000e+00\n",
      "   0.00000000e+00  0.00000000e+00]\n",
      " [ 0.00000000e+00  5.00000000e+01 -1.00000000e+00 -1.00000000e+00\n",
      "   0.00000000e+00  0.00000000e+00]\n",
      " [ 0.00000000e+00  5.00000000e+01 -1.00000000e+00 -1.00000000e+00\n",
      "   0.00000000e+00  0.00000000e+00]\n",
      " [ 0.00000000e+00  5.00000000e+01 -1.00000000e+00 -1.00000000e+00\n",
      "   0.00000000e+00  0.00000000e+00]\n",
      " [ 0.00000000e+00  5.00000000e+01 -1.00000000e+00 -1.00000000e+00\n",
      "   0.00000000e+00  0.00000000e+00]\n",
      " [ 0.00000000e+00  5.00000000e+01 -1.00000000e+00 -1.00000000e+00\n",
      "   0.00000000e+00  0.00000000e+00]\n",
      " [ 0.00000000e+00  5.00000000e+01 -1.00000000e+00 -1.00000000e+00\n",
      "   0.00000000e+00  0.00000000e+00]\n",
      " [ 0.00000000e+00  5.00000000e+01 -1.00000000e+00 -1.00000000e+00\n",
      "   0.00000000e+00  0.00000000e+00]\n",
      " [ 0.00000000e+00  5.00000000e+01 -1.00000000e+00 -1.00000000e+00\n",
      "   0.00000000e+00  0.00000000e+00]\n",
      " [ 0.00000000e+00  5.00000000e+01 -1.00000000e+00 -1.00000000e+00\n",
      "   0.00000000e+00  0.00000000e+00]\n",
      " [ 0.00000000e+00  5.00000000e+01 -1.00000000e+00 -1.00000000e+00\n",
      "   0.00000000e+00  0.00000000e+00]\n",
      " [ 0.00000000e+00  5.00000000e+01 -1.00000000e+00 -1.00000000e+00\n",
      "   0.00000000e+00  0.00000000e+00]\n",
      " [ 0.00000000e+00  5.00000000e+01 -1.00000000e+00 -1.00000000e+00\n",
      "   0.00000000e+00  0.00000000e+00]\n",
      " [ 0.00000000e+00  5.00000000e+01 -1.00000000e+00 -1.00000000e+00\n",
      "   0.00000000e+00  0.00000000e+00]\n",
      " [ 0.00000000e+00  5.00000000e+01 -1.00000000e+00 -1.00000000e+00\n",
      "   0.00000000e+00  0.00000000e+00]\n",
      " [ 0.00000000e+00  5.00000000e+01 -1.00000000e+00 -1.00000000e+00\n",
      "   0.00000000e+00  0.00000000e+00]\n",
      " [ 0.00000000e+00  5.00000000e+01 -1.00000000e+00 -1.00000000e+00\n",
      "   0.00000000e+00  0.00000000e+00]]\n"
     ]
    }
   ],
   "source": [
    "print(get_suspected_waldo_stripe_region_for_col(red_white_mask_rot[col_no]))"
   ]
  },
  {
   "cell_type": "code",
   "execution_count": 365,
   "metadata": {},
   "outputs": [],
   "source": [
    "def get_suspected_waldo_stripe_region_for_col(red_white_mask_col, ratio_range=(1/2, 2), white_pixel_threshold=0.3):\n",
    "    col_index = red_white_mask_col[0]\n",
    "    red_mask_col = red_white_mask_col[1:int((len(red_white_mask_col)-1)/2+1)]\n",
    "    white_mask_col = red_white_mask_col[int((len(red_white_mask_col)-1)/2+1):]\n",
    "    assert red_mask_col.shape == white_mask_col.shape, \"the mask column inputs for white and red masks are of different shapes:\" + str(red_mask_col.shape) + \"; \" + str(white_mask_col.shape)\n",
    "    \n",
    "    \n",
    "    white_mask_col = white_mask_col[1:]\n",
    "    \n",
    "    new_red_mask_col = np.zeros(len(red_mask_col))\n",
    "    new_red_mask_col[red_mask_col == 255] = 1\n",
    "    new_red_mask_col[red_mask_col == 0] = -1\n",
    "    \n",
    "    new_white_mask_col = np.zeros(len(white_mask_col))\n",
    "    new_white_mask_col[white_mask_col == 255] = 1\n",
    "    new_white_mask_col[white_mask_col == 0] = 0\n",
    "#     print(new_white_mask_col)\n",
    "#     print(new_red_mask_col)\n",
    "    streak_array = get_streak_len_array_with_approx(new_red_mask_col, 0)\n",
    "    ratio_array = np.array([abs(streak_array[i]) / abs(streak_array[i + 1]) for i in range(len(streak_array) - 1)])\n",
    "    accepted_ratio_indice, = np.where(np.logical_and(ratio_array > ratio_range[0], ratio_array < ratio_range[1]))\n",
    "    is_accepted_ratio_indice_continuous, lst_of_start_and_end = is_indice_continuous(accepted_ratio_indice)\n",
    "#     print(streak_array[17:27])\n",
    "#     print(ratio_array)\n",
    "#     print(accepted_ratio_indice)\n",
    "#     print(is_accepted_ratio_indice_continuous)\n",
    "#     print(lst_of_start_and_end)\n",
    "    revised_lst_of_start_and_end = []\n",
    "#     print(is_accepted_ratio_indice_continuous)\n",
    "#     print(lst_of_start_and_end)\n",
    "    if is_accepted_ratio_indice_continuous:\n",
    "        # then check if the negative pixels are white pixels\n",
    "        for start, end in lst_of_start_and_end:\n",
    "            is_region_start_with_red = streak_array[start+2] > 0\n",
    "            offset = 0\n",
    "            if is_region_start_with_red:\n",
    "                offset = 1\n",
    "            \n",
    "            total_number_of_white_pixels = 0\n",
    "            total_number_of_non_red_pixels = 0\n",
    "#             region = [np.sum(np.abs(streak_array[:accepted_ratio_indice[start]])), np.sum(np.abs(streak_array[:accepted_ratio_indice[end-1]+1]))]\n",
    "#             print(\"start, end: \" + str(region[0]) + \", \" + str(region[1]))\n",
    "\n",
    "            while start + offset < end:\n",
    "                supposedly_white_pixel_region = [np.sum(np.abs(streak_array[:accepted_ratio_indice[start + offset]])), np.sum(np.abs(streak_array[:accepted_ratio_indice[start + offset]+1]))]\n",
    "#                 print(supposedly_white_pixel_region)\n",
    "#                 print(np.abs(streak_array[:accepted_ratio_indice[start + offset]+1]))\n",
    "#                 print(start+offset, start+offset+1)\n",
    "#                 print(new_white_mask_col[int(supposedly_white_pixel_region[0]) : int(supposedly_white_pixel_region[1])])\n",
    "                number_of_white_pixels = np.sum(new_white_mask_col[int(supposedly_white_pixel_region[0]) : int(supposedly_white_pixel_region[1])])\n",
    "                number_of_non_red_pixels = supposedly_white_pixel_region[1] - supposedly_white_pixel_region[0]\n",
    "#                 print(number_of_white_pixels)\n",
    "                total_number_of_white_pixels += number_of_white_pixels\n",
    "                total_number_of_non_red_pixels += number_of_non_red_pixels\n",
    "                offset += 2\n",
    "#             print(total_number_of_white_pixels)\n",
    "#             print(total_number_of_non_red_pixels)\n",
    "            if total_number_of_white_pixels / total_number_of_non_red_pixels > white_pixel_threshold:\n",
    "                revised_lst_of_start_and_end.append((start, end))\n",
    "        \n",
    "        if len(revised_lst_of_start_and_end) == 0:\n",
    "            empty_terms = np.array(list(itertools.repeat([int(False), col_index, -1, -1, 0, 0], 20)))\n",
    "            return empty_terms\n",
    "        stripe_region = [[int(True), \\\n",
    "                          col_index, \\\n",
    "                          np.sum(np.abs(streak_array[:accepted_ratio_indice[start]])), \\\n",
    "                          np.sum(np.abs(streak_array[:accepted_ratio_indice[end-1]+1])), \\\n",
    "                          int(end - start), \\\n",
    "                          (np.sum(np.abs(streak_array[:accepted_ratio_indice[end-1]+1])) - np.sum(np.abs(streak_array[:accepted_ratio_indice[start]]))) / int(end - start)] \\\n",
    "                         for start, end in revised_lst_of_start_and_end]\n",
    "        # from here examine the percentage of white pixels in the region\n",
    "        # if there are white pixels dominating the negative pixels, then it is stripes\n",
    "        # return (1, col_number, start_of_stripe_region, end_of_stripe_region, number_of_stripes, average_width_of_stripes)\n",
    "        \n",
    "        how_many_more_terms = 20 - len(stripe_region)\n",
    "        additional_terms = np.array(list(itertools.repeat([int(False), col_index, -1, -1, 0, 0], how_many_more_terms)))\n",
    "#         print(np.vstack((stripe_region, additional_terms)))\n",
    "        return np.vstack((stripe_region, additional_terms))\n",
    "    \n",
    "#     print([[int(False), col_index, -1, -1, 0, 0]])\n",
    "    empty_terms = np.array(list(itertools.repeat([int(False), col_index, -1, -1, 0, 0], 20)))\n",
    "    return empty_terms"
   ]
  },
  {
   "cell_type": "code",
   "execution_count": 366,
   "metadata": {},
   "outputs": [],
   "source": [
    "def get_streak_len_array_with_approx(unit_lst, threshold):\n",
    "    # in the unit_lst, 1 represents the superior pixel value, -1 is the inferior pixel value\n",
    "    # the superior pixel value is the one that is well captured in color distillation \n",
    "    # in our case e.g. red is the superior pixel value because it is well captured \n",
    "    # and white is the inferior pixel value because it might be noise\n",
    "    # we want to restore the shape outlined by the superior pixel value\n",
    "    # hence we need to minimize the disturbannce by the inferior pixel value\n",
    "    # hence we need to remove the 'sparse' inferior pixel value located within the streaks of superior pixel values\n",
    "    # the definition of sparse is given by the threshold\n",
    "    previous = 0\n",
    "    streak_len_array = []\n",
    "    streak_len = 0\n",
    "    fast_forward_count = 0\n",
    "    for i in range(len(unit_lst)):\n",
    "        if i == 0:\n",
    "            previous = unit_lst[i]\n",
    "            \n",
    "        if fast_forward_count > 0:\n",
    "            fast_forward_count -= 1\n",
    "            if i == len(unit_lst) - 1:\n",
    "                streak_len_array.append(streak_len)\n",
    "            continue\n",
    "        \n",
    "        if previous == unit_lst[i]:\n",
    "            cur_streak_len = streak_len\n",
    "            streak_len += unit_lst[i]\n",
    "            if i == len(unit_lst) - 1:\n",
    "                streak_len_array.append(streak_len)\n",
    "            previous = unit_lst[i]\n",
    "        else:\n",
    "            if streak_len > 0:\n",
    "                # superior pixel streak ending\n",
    "                cur_streak_len = streak_len\n",
    "                # we need to look ahead the threshold number of pixels to see if theres any superior pixel\n",
    "                next_few_number = min(threshold, len(unit_lst) - 1 - i)\n",
    "                next_few_pixels = unit_lst[i : i+1+next_few_number]\n",
    "                # if there is we will continue the superior pixel streak from there\n",
    "                indice_of_next_superior_pixel, = np.where(next_few_pixels == 1)\n",
    "                if len(indice_of_next_superior_pixel) != 0:\n",
    "                    next_superior = max(indice_of_next_superior_pixel)\n",
    "                    streak_len += 1 + next_superior\n",
    "                    fast_forward_count = next_superior\n",
    "                    previous = abs(unit_lst[i])\n",
    "                # if not we end the superior pixel streak here and start a new inferior pixel streak\n",
    "                else:\n",
    "                    streak_len_array.append(cur_streak_len)\n",
    "                    streak_len = 0\n",
    "                    streak_len += unit_lst[i]\n",
    "                    previous = unit_lst[i]\n",
    "            elif streak_len < 0:\n",
    "                # inferior pixel streak ending\n",
    "                # we will start a new superior pixel streak\n",
    "                streak_len_array.append(streak_len)\n",
    "                streak_len = 0\n",
    "                streak_len += unit_lst[i]\n",
    "                previous = unit_lst[i]\n",
    "            \n",
    "    return streak_len_array\n",
    "\n",
    "def get_streak_len_array(unit_lst):\n",
    "    previous = 0\n",
    "    streak_len_array = []\n",
    "    streak_len = 0\n",
    "    for i in range(len(unit_lst)):\n",
    "        if i == 0:\n",
    "            previous = unit_lst[i]\n",
    "        \n",
    "        if previous == unit_lst[i]:\n",
    "            streak_len += unit_lst[i]\n",
    "            if i == len(unit_lst) - 1:\n",
    "                streak_len_array.append(streak_len)\n",
    "        else:\n",
    "            streak_len_array.append(streak_len)\n",
    "            streak_len = 0\n",
    "            \n",
    "        previous = unit_lst[i]\n",
    "        \n",
    "    return streak_len_array\n",
    "\n",
    "\n",
    "# Method: Given a 1D array, find the starting position and the ending position of an arithmatic sequence with the next equal to 1+previous. The sequence must contain no less than 3 numbers.\n",
    "# Input: a 1D array of integers\n",
    "# Output: a tuple in the form of (Boolean, list). The boolean is True when there is at least one sequence. The list consists of tuples (starting_position_of_sequence_inclusive, ending_position_of_sequence_exclusive)\n",
    "def is_indice_continuous(lst_of_indice):\n",
    "    # right now the number of stripes accepted is 3\n",
    "    is_continuous = False\n",
    "    continuous_count = 0\n",
    "    prev = -1\n",
    "    start_index = -1\n",
    "    lst_of_start_and_end = []\n",
    "    for i in range(len(lst_of_indice)):\n",
    "        if i == 0:\n",
    "            prev = lst_of_indice[i]\n",
    "            start_index = i\n",
    "            continuous_count = 1\n",
    "            continue\n",
    "            \n",
    "        if lst_of_indice[i] - prev == 1:\n",
    "            # the streak continues\n",
    "            continuous_count += 1\n",
    "        else:\n",
    "            # the streak ends\n",
    "            if continuous_count >= 3:\n",
    "                lst_of_start_and_end.append((start_index, i))\n",
    "                is_continuous = True\n",
    "\n",
    "            continuous_count = 1\n",
    "            start_index = i\n",
    "            \n",
    "        if i == len(lst_of_indice) - 1:\n",
    "            if start_index != -1 and continuous_count >= 3:\n",
    "                lst_of_start_and_end.append((start_index, i))\n",
    "                is_continuous = True\n",
    "        \n",
    "        prev = lst_of_indice[i]\n",
    "        \n",
    "    return (is_continuous, lst_of_start_and_end)\n"
   ]
  },
  {
   "cell_type": "code",
   "execution_count": 368,
   "metadata": {},
   "outputs": [
    {
     "name": "stdout",
     "output_type": "stream",
     "text": [
      "--- 0.9809951782226562 seconds ---\n"
     ]
    }
   ],
   "source": [
    "start_time = time.time()\n",
    "result  = np.apply_along_axis(get_suspected_waldo_stripe_region_for_col, 1, red_white_mask_rot)\n",
    "stop_time = time.time()\n",
    "print(\"--- %s seconds ---\" % (stop_time - start_time))"
   ]
  },
  {
   "cell_type": "code",
   "execution_count": 369,
   "metadata": {},
   "outputs": [
    {
     "name": "stdout",
     "output_type": "stream",
     "text": [
      "(122, 20, 6)\n"
     ]
    }
   ],
   "source": [
    "print(result.shape)"
   ]
  },
  {
   "cell_type": "code",
   "execution_count": 370,
   "metadata": {},
   "outputs": [
    {
     "name": "stdout",
     "output_type": "stream",
     "text": [
      "[[   1   52 5051 5161    8   13]\n",
      " [   0   52   -1   -1    0    0]\n",
      " [   0   52   -1   -1    0    0]\n",
      " [   0   52   -1   -1    0    0]\n",
      " [   0   52   -1   -1    0    0]\n",
      " [   0   52   -1   -1    0    0]\n",
      " [   0   52   -1   -1    0    0]\n",
      " [   0   52   -1   -1    0    0]\n",
      " [   0   52   -1   -1    0    0]\n",
      " [   0   52   -1   -1    0    0]\n",
      " [   0   52   -1   -1    0    0]\n",
      " [   0   52   -1   -1    0    0]\n",
      " [   0   52   -1   -1    0    0]\n",
      " [   0   52   -1   -1    0    0]\n",
      " [   0   52   -1   -1    0    0]\n",
      " [   0   52   -1   -1    0    0]\n",
      " [   0   52   -1   -1    0    0]\n",
      " [   0   52   -1   -1    0    0]\n",
      " [   0   52   -1   -1    0    0]\n",
      " [   0   52   -1   -1    0    0]]\n"
     ]
    }
   ],
   "source": [
    "print(result[52])"
   ]
  },
  {
   "cell_type": "code",
   "execution_count": 371,
   "metadata": {
    "scrolled": true
   },
   "outputs": [
    {
     "name": "stdout",
     "output_type": "stream",
     "text": [
      "[[  0   0  -1  -1   0   0]\n",
      " [  0   0  -1  -1   0   0]\n",
      " [  0   0  -1  -1   0   0]\n",
      " ...\n",
      " [  0 121  -1  -1   0   0]\n",
      " [  0 121  -1  -1   0   0]\n",
      " [  0 121  -1  -1   0   0]]\n"
     ]
    }
   ],
   "source": [
    "reshaped = np.reshape(result, (result.shape[0] * result.shape[1], result.shape[2]))\n",
    "print(reshaped)"
   ]
  },
  {
   "cell_type": "code",
   "execution_count": 372,
   "metadata": {},
   "outputs": [],
   "source": [
    "import pandas as pd"
   ]
  },
  {
   "cell_type": "code",
   "execution_count": 373,
   "metadata": {},
   "outputs": [],
   "source": [
    "df = pd.DataFrame(data=reshaped, columns=[\"has_stripes\", \"col_no\", \"stripe_start\", \"stripe_end\", \"no_of_stripes\", \"average_stripe_width\"])"
   ]
  },
  {
   "cell_type": "code",
   "execution_count": 374,
   "metadata": {},
   "outputs": [
    {
     "data": {
      "text/html": [
       "<div>\n",
       "<style scoped>\n",
       "    .dataframe tbody tr th:only-of-type {\n",
       "        vertical-align: middle;\n",
       "    }\n",
       "\n",
       "    .dataframe tbody tr th {\n",
       "        vertical-align: top;\n",
       "    }\n",
       "\n",
       "    .dataframe thead th {\n",
       "        text-align: right;\n",
       "    }\n",
       "</style>\n",
       "<table border=\"1\" class=\"dataframe\">\n",
       "  <thead>\n",
       "    <tr style=\"text-align: right;\">\n",
       "      <th></th>\n",
       "      <th>has_stripes</th>\n",
       "      <th>col_no</th>\n",
       "      <th>stripe_start</th>\n",
       "      <th>stripe_end</th>\n",
       "      <th>no_of_stripes</th>\n",
       "      <th>average_stripe_width</th>\n",
       "    </tr>\n",
       "  </thead>\n",
       "  <tbody>\n",
       "    <tr>\n",
       "      <th>0</th>\n",
       "      <td>0</td>\n",
       "      <td>0</td>\n",
       "      <td>-1</td>\n",
       "      <td>-1</td>\n",
       "      <td>0</td>\n",
       "      <td>0</td>\n",
       "    </tr>\n",
       "    <tr>\n",
       "      <th>1</th>\n",
       "      <td>0</td>\n",
       "      <td>0</td>\n",
       "      <td>-1</td>\n",
       "      <td>-1</td>\n",
       "      <td>0</td>\n",
       "      <td>0</td>\n",
       "    </tr>\n",
       "    <tr>\n",
       "      <th>2</th>\n",
       "      <td>0</td>\n",
       "      <td>0</td>\n",
       "      <td>-1</td>\n",
       "      <td>-1</td>\n",
       "      <td>0</td>\n",
       "      <td>0</td>\n",
       "    </tr>\n",
       "    <tr>\n",
       "      <th>3</th>\n",
       "      <td>0</td>\n",
       "      <td>0</td>\n",
       "      <td>-1</td>\n",
       "      <td>-1</td>\n",
       "      <td>0</td>\n",
       "      <td>0</td>\n",
       "    </tr>\n",
       "    <tr>\n",
       "      <th>4</th>\n",
       "      <td>0</td>\n",
       "      <td>0</td>\n",
       "      <td>-1</td>\n",
       "      <td>-1</td>\n",
       "      <td>0</td>\n",
       "      <td>0</td>\n",
       "    </tr>\n",
       "    <tr>\n",
       "      <th>...</th>\n",
       "      <td>...</td>\n",
       "      <td>...</td>\n",
       "      <td>...</td>\n",
       "      <td>...</td>\n",
       "      <td>...</td>\n",
       "      <td>...</td>\n",
       "    </tr>\n",
       "    <tr>\n",
       "      <th>2435</th>\n",
       "      <td>0</td>\n",
       "      <td>121</td>\n",
       "      <td>-1</td>\n",
       "      <td>-1</td>\n",
       "      <td>0</td>\n",
       "      <td>0</td>\n",
       "    </tr>\n",
       "    <tr>\n",
       "      <th>2436</th>\n",
       "      <td>0</td>\n",
       "      <td>121</td>\n",
       "      <td>-1</td>\n",
       "      <td>-1</td>\n",
       "      <td>0</td>\n",
       "      <td>0</td>\n",
       "    </tr>\n",
       "    <tr>\n",
       "      <th>2437</th>\n",
       "      <td>0</td>\n",
       "      <td>121</td>\n",
       "      <td>-1</td>\n",
       "      <td>-1</td>\n",
       "      <td>0</td>\n",
       "      <td>0</td>\n",
       "    </tr>\n",
       "    <tr>\n",
       "      <th>2438</th>\n",
       "      <td>0</td>\n",
       "      <td>121</td>\n",
       "      <td>-1</td>\n",
       "      <td>-1</td>\n",
       "      <td>0</td>\n",
       "      <td>0</td>\n",
       "    </tr>\n",
       "    <tr>\n",
       "      <th>2439</th>\n",
       "      <td>0</td>\n",
       "      <td>121</td>\n",
       "      <td>-1</td>\n",
       "      <td>-1</td>\n",
       "      <td>0</td>\n",
       "      <td>0</td>\n",
       "    </tr>\n",
       "  </tbody>\n",
       "</table>\n",
       "<p>2440 rows × 6 columns</p>\n",
       "</div>"
      ],
      "text/plain": [
       "      has_stripes  col_no  stripe_start  stripe_end  no_of_stripes  \\\n",
       "0               0       0            -1          -1              0   \n",
       "1               0       0            -1          -1              0   \n",
       "2               0       0            -1          -1              0   \n",
       "3               0       0            -1          -1              0   \n",
       "4               0       0            -1          -1              0   \n",
       "...           ...     ...           ...         ...            ...   \n",
       "2435            0     121            -1          -1              0   \n",
       "2436            0     121            -1          -1              0   \n",
       "2437            0     121            -1          -1              0   \n",
       "2438            0     121            -1          -1              0   \n",
       "2439            0     121            -1          -1              0   \n",
       "\n",
       "      average_stripe_width  \n",
       "0                        0  \n",
       "1                        0  \n",
       "2                        0  \n",
       "3                        0  \n",
       "4                        0  \n",
       "...                    ...  \n",
       "2435                     0  \n",
       "2436                     0  \n",
       "2437                     0  \n",
       "2438                     0  \n",
       "2439                     0  \n",
       "\n",
       "[2440 rows x 6 columns]"
      ]
     },
     "execution_count": 374,
     "metadata": {},
     "output_type": "execute_result"
    }
   ],
   "source": [
    "df"
   ]
  },
  {
   "cell_type": "code",
   "execution_count": 375,
   "metadata": {},
   "outputs": [
    {
     "data": {
      "text/html": [
       "<div>\n",
       "<style scoped>\n",
       "    .dataframe tbody tr th:only-of-type {\n",
       "        vertical-align: middle;\n",
       "    }\n",
       "\n",
       "    .dataframe tbody tr th {\n",
       "        vertical-align: top;\n",
       "    }\n",
       "\n",
       "    .dataframe thead th {\n",
       "        text-align: right;\n",
       "    }\n",
       "</style>\n",
       "<table border=\"1\" class=\"dataframe\">\n",
       "  <thead>\n",
       "    <tr style=\"text-align: right;\">\n",
       "      <th></th>\n",
       "      <th>has_stripes</th>\n",
       "      <th>col_no</th>\n",
       "      <th>stripe_start</th>\n",
       "      <th>stripe_end</th>\n",
       "      <th>no_of_stripes</th>\n",
       "      <th>average_stripe_width</th>\n",
       "    </tr>\n",
       "  </thead>\n",
       "  <tbody>\n",
       "    <tr>\n",
       "      <th>300</th>\n",
       "      <td>1</td>\n",
       "      <td>15</td>\n",
       "      <td>3961</td>\n",
       "      <td>3968</td>\n",
       "      <td>3</td>\n",
       "      <td>2</td>\n",
       "    </tr>\n",
       "    <tr>\n",
       "      <th>960</th>\n",
       "      <td>1</td>\n",
       "      <td>48</td>\n",
       "      <td>5060</td>\n",
       "      <td>5159</td>\n",
       "      <td>7</td>\n",
       "      <td>14</td>\n",
       "    </tr>\n",
       "    <tr>\n",
       "      <th>1000</th>\n",
       "      <td>1</td>\n",
       "      <td>50</td>\n",
       "      <td>5060</td>\n",
       "      <td>5160</td>\n",
       "      <td>7</td>\n",
       "      <td>14</td>\n",
       "    </tr>\n",
       "    <tr>\n",
       "      <th>1040</th>\n",
       "      <td>1</td>\n",
       "      <td>52</td>\n",
       "      <td>5051</td>\n",
       "      <td>5161</td>\n",
       "      <td>8</td>\n",
       "      <td>13</td>\n",
       "    </tr>\n",
       "    <tr>\n",
       "      <th>1200</th>\n",
       "      <td>1</td>\n",
       "      <td>60</td>\n",
       "      <td>5067</td>\n",
       "      <td>5142</td>\n",
       "      <td>6</td>\n",
       "      <td>12</td>\n",
       "    </tr>\n",
       "    <tr>\n",
       "      <th>1220</th>\n",
       "      <td>1</td>\n",
       "      <td>61</td>\n",
       "      <td>5068</td>\n",
       "      <td>5142</td>\n",
       "      <td>6</td>\n",
       "      <td>12</td>\n",
       "    </tr>\n",
       "    <tr>\n",
       "      <th>1240</th>\n",
       "      <td>1</td>\n",
       "      <td>62</td>\n",
       "      <td>5068</td>\n",
       "      <td>5143</td>\n",
       "      <td>6</td>\n",
       "      <td>12</td>\n",
       "    </tr>\n",
       "    <tr>\n",
       "      <th>1720</th>\n",
       "      <td>1</td>\n",
       "      <td>86</td>\n",
       "      <td>5075</td>\n",
       "      <td>5114</td>\n",
       "      <td>3</td>\n",
       "      <td>13</td>\n",
       "    </tr>\n",
       "  </tbody>\n",
       "</table>\n",
       "</div>"
      ],
      "text/plain": [
       "      has_stripes  col_no  stripe_start  stripe_end  no_of_stripes  \\\n",
       "300             1      15          3961        3968              3   \n",
       "960             1      48          5060        5159              7   \n",
       "1000            1      50          5060        5160              7   \n",
       "1040            1      52          5051        5161              8   \n",
       "1200            1      60          5067        5142              6   \n",
       "1220            1      61          5068        5142              6   \n",
       "1240            1      62          5068        5143              6   \n",
       "1720            1      86          5075        5114              3   \n",
       "\n",
       "      average_stripe_width  \n",
       "300                      2  \n",
       "960                     14  \n",
       "1000                    14  \n",
       "1040                    13  \n",
       "1200                    12  \n",
       "1220                    12  \n",
       "1240                    12  \n",
       "1720                    13  "
      ]
     },
     "execution_count": 375,
     "metadata": {},
     "output_type": "execute_result"
    }
   ],
   "source": [
    "df = df[df[\"has_stripes\"]==1]\n",
    "df"
   ]
  },
  {
   "cell_type": "code",
   "execution_count": 355,
   "metadata": {},
   "outputs": [],
   "source": [
    "def print_full(x):\n",
    "    pd.set_option('display.max_rows', len(x))\n",
    "    print(x)\n",
    "    pd.reset_option('display.max_rows')"
   ]
  },
  {
   "cell_type": "code",
   "execution_count": 356,
   "metadata": {},
   "outputs": [
    {
     "name": "stdout",
     "output_type": "stream",
     "text": [
      "      has_stripes  col_no  stripe_start  stripe_end  no_of_stripes  \\\n",
      "300             1      15          3961        3968              3   \n",
      "960             1      48          5060        5159              7   \n",
      "1000            1      50          5060        5160              7   \n",
      "1040            1      52          5051        5161              8   \n",
      "1200            1      60          5067        5142              6   \n",
      "1220            1      61          5068        5142              6   \n",
      "1240            1      62          5068        5143              6   \n",
      "1720            1      86          5075        5114              3   \n",
      "\n",
      "      average_stripe_width  \n",
      "300                      2  \n",
      "960                     14  \n",
      "1000                    14  \n",
      "1040                    13  \n",
      "1200                    12  \n",
      "1220                    12  \n",
      "1240                    12  \n",
      "1720                    13  \n"
     ]
    }
   ],
   "source": [
    "print_full(df)"
   ]
  },
  {
   "cell_type": "code",
   "execution_count": 105,
   "metadata": {},
   "outputs": [],
   "source": [
    "streak_array = np.array([-584.0, 41.0, -71.0, 8.0, -21.0, 3.0, -44.0, 33.0, -70.0, 1.0, -67.0, 3.0, -56.0, 4.0, -6.0, 3.0, -31.0, 1.0, -20.0, 5.0, -4.0, 10.0, -4.0, 15.0, -7.0, 2.0, -2.0, 18.0, -1.0, 2.0, -9.0, 3.0, -3.0, 3.0, -5.0, 50.0, -98.0, 2.0, -5.0, 24.0, -210.0, 1.0, -32.0, 1.0, -252.0, 1.0, -3.0, 8.0, -6.0, 6.0, -170.0, 1.0, -74.0, 1.0, -11.0, 5.0, -8.0, 1.0, -20.0, 1.0, -165.0, 4.0, -3.0, 3.0, -3.0, 1.0, -14.0, 1.0, -209.0, 2.0, -39.0, 1.0, -2.0, 43.0, -2.0, 77.0, -2.0, 23.0, -225.0, 37.0, -7.0, 23.0, -1.0, 3.0, -12.0, 13.0, -2.0, 1.0, -308.0, 4.0, -288.0, 2.0, -23.0, 3.0, -33.0, 1.0, -151.0, 5.0, -54.0, 4.0, -20.0, 5.0, -754.0, 3.0, -41.0, 6.0, -8.0, 2.0, -38.0, 3.0, -309.0, 28.0, -327.0, 13.0, -63.0, 37.0, -102.0, 38.0, -136.0, 1.0, -181.0, 3.0, -95.0, 2.0, -77.0, 4.0, -51.0, 4.0, -72.0, 5.0, -60.0, 1.0, -1.0, 5.0, -207.0, 4.0, -319.0, 3.0, -42.0])"
   ]
  },
  {
   "cell_type": "code",
   "execution_count": 108,
   "metadata": {},
   "outputs": [
    {
     "name": "stdout",
     "output_type": "stream",
     "text": [
      "3945.0\n"
     ]
    }
   ],
   "source": [
    "print(np.sum(np.abs(streak_array[:100])))"
   ]
  },
  {
   "cell_type": "code",
   "execution_count": 112,
   "metadata": {},
   "outputs": [
    {
     "name": "stdout",
     "output_type": "stream",
     "text": [
      "584.0\n",
      "625.0\n",
      "696.0\n",
      "704.0\n",
      "725.0\n",
      "728.0\n",
      "772.0\n",
      "805.0\n",
      "875.0\n",
      "876.0\n",
      "943.0\n",
      "946.0\n",
      "1002.0\n",
      "1006.0\n",
      "1012.0\n",
      "1015.0\n",
      "1046.0\n",
      "1047.0\n",
      "1067.0\n",
      "1072.0\n",
      "1076.0\n",
      "1086.0\n",
      "1090.0\n",
      "1105.0\n",
      "1112.0\n",
      "1114.0\n",
      "1116.0\n",
      "1134.0\n",
      "1135.0\n",
      "1137.0\n",
      "1146.0\n",
      "1149.0\n",
      "1152.0\n",
      "1155.0\n",
      "1160.0\n",
      "1210.0\n",
      "1308.0\n",
      "1310.0\n",
      "1315.0\n",
      "1339.0\n",
      "1549.0\n",
      "1550.0\n",
      "1582.0\n",
      "1583.0\n",
      "1835.0\n",
      "1836.0\n",
      "1839.0\n",
      "1847.0\n",
      "1853.0\n",
      "1859.0\n",
      "2029.0\n",
      "2030.0\n",
      "2104.0\n",
      "2105.0\n",
      "2116.0\n",
      "2121.0\n",
      "2129.0\n",
      "2130.0\n",
      "2150.0\n",
      "2151.0\n",
      "2316.0\n",
      "2320.0\n",
      "2323.0\n",
      "2326.0\n",
      "2329.0\n",
      "2330.0\n",
      "2344.0\n",
      "2345.0\n",
      "2554.0\n",
      "2556.0\n",
      "2595.0\n",
      "2596.0\n",
      "2598.0\n",
      "2641.0\n",
      "2643.0\n",
      "2720.0\n",
      "2722.0\n",
      "2745.0\n",
      "2970.0\n",
      "3007.0\n",
      "3014.0\n",
      "3037.0\n",
      "3038.0\n",
      "3041.0\n",
      "3053.0\n",
      "3066.0\n",
      "3068.0\n",
      "3069.0\n",
      "3377.0\n",
      "3381.0\n",
      "3669.0\n",
      "3671.0\n",
      "3694.0\n",
      "3697.0\n",
      "3730.0\n",
      "3731.0\n",
      "3882.0\n",
      "3887.0\n",
      "3941.0\n",
      "3945.0\n",
      "3965.0\n",
      "3970.0\n",
      "4724.0\n",
      "4727.0\n",
      "4768.0\n",
      "4774.0\n",
      "4782.0\n",
      "4784.0\n",
      "4822.0\n",
      "4825.0\n",
      "5134.0\n",
      "5162.0\n",
      "5489.0\n",
      "5502.0\n",
      "5565.0\n",
      "5602.0\n",
      "5704.0\n",
      "5742.0\n",
      "5878.0\n",
      "5879.0\n",
      "6060.0\n",
      "6063.0\n",
      "6158.0\n",
      "6160.0\n",
      "6237.0\n",
      "6241.0\n",
      "6292.0\n",
      "6296.0\n",
      "6368.0\n",
      "6373.0\n",
      "6433.0\n",
      "6434.0\n",
      "6435.0\n",
      "6440.0\n",
      "6647.0\n",
      "6651.0\n",
      "6970.0\n",
      "6973.0\n",
      "7015.0\n"
     ]
    }
   ],
   "source": [
    "for i in range(len(streak_array)):\n",
    "    print(np.sum(np.abs(streak_array[:i+1])))"
   ]
  },
  {
   "cell_type": "code",
   "execution_count": null,
   "metadata": {},
   "outputs": [],
   "source": []
  }
 ],
 "metadata": {
  "kernelspec": {
   "display_name": "Python 3",
   "language": "python",
   "name": "python3"
  },
  "language_info": {
   "codemirror_mode": {
    "name": "ipython",
    "version": 3
   },
   "file_extension": ".py",
   "mimetype": "text/x-python",
   "name": "python",
   "nbconvert_exporter": "python",
   "pygments_lexer": "ipython3",
   "version": "3.7.4"
  }
 },
 "nbformat": 4,
 "nbformat_minor": 2
}
